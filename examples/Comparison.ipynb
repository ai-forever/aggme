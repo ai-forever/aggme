{
 "cells": [
  {
   "cell_type": "code",
   "execution_count": 1,
   "id": "058ab624-607b-4c6d-9608-554583bd05b8",
   "metadata": {},
   "outputs": [],
   "source": [
    "import json\n",
    "import pandas as pd\n",
    "\n",
    "from aggme.aggregation import (\n",
    "    BboxAggregation,\n",
    "    IntervalAggregation,\n",
    "    MaskAggregation,\n",
    ")\n",
    "from aggme.utils import AnnotationData\n",
    "from aggme.utils.processing import (\n",
    "    toloka_bboxes_to_template,\n",
    "    abc_intervals_to_template,\n",
    "    toloka_masks_to_template,\n",
    ")"
   ]
  },
  {
   "cell_type": "code",
   "execution_count": 2,
   "id": "2664a5f1-ac07-4c52-ab49-28325f5212a3",
   "metadata": {},
   "outputs": [],
   "source": [
    "def print_stat(stat):\n",
    "    total_markups = len(stat)\n",
    "    count_match_markups = 0\n",
    "    class_count_match_markups = 0\n",
    "    iou_match_percent_markups_0_20 = 0\n",
    "    iou_match_percent_markups_20_50 = 0\n",
    "    iou_match_percent_markups_50_80 = 0\n",
    "    iou_match_percent_markups_80_90 = 0\n",
    "    iou_match_percent_markups_90_100 = 0\n",
    "    for s in stat:\n",
    "        if s[\"count_match\"]:\n",
    "            count_match_markups += 1\n",
    "\n",
    "        if s[\"class_count_match\"]:\n",
    "            class_count_match_markups += 1\n",
    "\n",
    "        if s[\"iou_match_percent\"]:\n",
    "            if s[\"iou_match_percent\"] <= 20:\n",
    "                iou_match_percent_markups_0_20 += 1\n",
    "            elif s[\"iou_match_percent\"] <= 50:\n",
    "                iou_match_percent_markups_20_50 += 1\n",
    "            elif s[\"iou_match_percent\"] <= 80:\n",
    "                iou_match_percent_markups_50_80 += 1\n",
    "            elif s[\"iou_match_percent\"] <= 90:\n",
    "                iou_match_percent_markups_80_90 += 1\n",
    "            elif s[\"iou_match_percent\"] <= 100:\n",
    "                iou_match_percent_markups_90_100 += 1\n",
    "\n",
    "    print(f\"total_markups: {total_markups}\"\n",
    "    f\"\\ncount_match_markups: {count_match_markups}\"\n",
    "    f\"\\nclass_count_match_markups: {class_count_match_markups}\"\n",
    "    f\"\\niou_match_percent_markups_0_20: {iou_match_percent_markups_0_20}\"\n",
    "    f\"\\niou_match_percent_markups_20_50: {iou_match_percent_markups_20_50}\"\n",
    "    f\"\\niou_match_percent_markups_50_80: {iou_match_percent_markups_50_80}\"\n",
    "    f\"\\niou_match_percent_markups_80_90: {iou_match_percent_markups_80_90}\"\n",
    "    f\"\\niou_match_percent_markups_90_100: {iou_match_percent_markups_90_100}\")"
   ]
  },
  {
   "cell_type": "markdown",
   "id": "d43249e6-04ba-40aa-8298-7f3d373df57e",
   "metadata": {},
   "source": [
    "# BboxAggregation"
   ]
  },
  {
   "cell_type": "code",
   "execution_count": 3,
   "id": "cd45c5df-e8e3-4f95-9df3-a69837e76e20",
   "metadata": {},
   "outputs": [
    {
     "name": "stderr",
     "output_type": "stream",
     "text": [
      "100%|██████████| 28/28 [00:02<00:00, 10.26it/s]\n"
     ]
    }
   ],
   "source": [
    "aggregator = BboxAggregation()\n",
    "df = pd.read_csv(\"./input_files/bboxes_data.csv\")\n",
    "data = AnnotationData(markup_type='bboxes')\n",
    "data.load_markups(df, toloka_bboxes_to_template)\n",
    "results = aggregator.get_aggregation_results(data, threshold=0.5, confidence=0.6)"
   ]
  },
  {
   "cell_type": "code",
   "execution_count": 4,
   "id": "564d2951-faac-48aa-b1f5-62098672a6c4",
   "metadata": {},
   "outputs": [
    {
     "name": "stdout",
     "output_type": "stream",
     "text": [
      "total_markups: 21\n",
      "count_match_markups: 21\n",
      "class_count_match_markups: 21\n",
      "iou_match_percent_markups_0_20: 0\n",
      "iou_match_percent_markups_20_50: 0\n",
      "iou_match_percent_markups_50_80: 0\n",
      "iou_match_percent_markups_80_90: 0\n",
      "iou_match_percent_markups_90_100: 21\n",
      "total_markups: 21\n",
      "count_match_markups: 20\n",
      "class_count_match_markups: 19\n",
      "iou_match_percent_markups_0_20: 0\n",
      "iou_match_percent_markups_20_50: 2\n",
      "iou_match_percent_markups_50_80: 0\n",
      "iou_match_percent_markups_80_90: 0\n",
      "iou_match_percent_markups_90_100: 18\n"
     ]
    }
   ],
   "source": [
    "# we can save the results\n",
    "results1 = aggregator.convert_and_save_markups(results, \"bboxes_results.json\")\n",
    "\n",
    "results2 = aggregator.convert_and_save_markups(results)\n",
    "stat = aggregator.markups_comparison(results1, results2, threshold = 1.0)\n",
    "print_stat(stat)\n",
    "\n",
    "with open(\"./input_files/bboxes_other_results.json\", \"r\") as f:\n",
    "    results3 = json.load(f)\n",
    "stat = aggregator.markups_comparison(results1, results3, threshold = 0.8)\n",
    "print_stat(stat)"
   ]
  },
  {
   "cell_type": "markdown",
   "id": "41f8af9f-6452-43bb-b858-5804ed9eda7a",
   "metadata": {},
   "source": [
    "# IntervalAggregation"
   ]
  },
  {
   "cell_type": "code",
   "execution_count": 5,
   "id": "9b1beece-4df4-4818-8f5f-2d2e792f2d7f",
   "metadata": {},
   "outputs": [
    {
     "name": "stderr",
     "output_type": "stream",
     "text": [
      "100%|██████████| 14/14 [00:00<00:00, 58.09it/s]\n"
     ]
    }
   ],
   "source": [
    "aggregator = IntervalAggregation()\n",
    "df = pd.read_csv(\"./input_files/intervals_data.csv\")\n",
    "data = AnnotationData(markup_type='interval')\n",
    "data.load_markups(df, abc_intervals_to_template)\n",
    "results = aggregator.get_aggregation_results(data, threshold=0.7, confidence=0.8)"
   ]
  },
  {
   "cell_type": "code",
   "execution_count": 6,
   "id": "7a49126a-e051-43ba-a0bc-b6cf54684dd2",
   "metadata": {},
   "outputs": [
    {
     "name": "stdout",
     "output_type": "stream",
     "text": [
      "total_markups: 11\n",
      "count_match_markups: 11\n",
      "class_count_match_markups: 11\n",
      "iou_match_percent_markups_0_20: 0\n",
      "iou_match_percent_markups_20_50: 0\n",
      "iou_match_percent_markups_50_80: 0\n",
      "iou_match_percent_markups_80_90: 0\n",
      "iou_match_percent_markups_90_100: 11\n",
      "total_markups: 11\n",
      "count_match_markups: 10\n",
      "class_count_match_markups: 9\n",
      "iou_match_percent_markups_0_20: 0\n",
      "iou_match_percent_markups_20_50: 0\n",
      "iou_match_percent_markups_50_80: 0\n",
      "iou_match_percent_markups_80_90: 0\n",
      "iou_match_percent_markups_90_100: 9\n"
     ]
    }
   ],
   "source": [
    "# we can save the results\n",
    "results1 = aggregator.convert_and_save_markups(results, \"intervals_results.json\")\n",
    "\n",
    "results2 = aggregator.convert_and_save_markups(results)\n",
    "stat = aggregator.markups_comparison(results1, results2, threshold = 1.0)\n",
    "print_stat(stat)\n",
    "\n",
    "with open(\"./input_files/intervals_other_results.json\", \"r\") as f:\n",
    "    results3 = json.load(f)\n",
    "stat = aggregator.markups_comparison(results1, results3, threshold = 0.8)\n",
    "print_stat(stat)"
   ]
  },
  {
   "cell_type": "markdown",
   "id": "5727a247-f0b3-4ebf-b00f-19dc609a219e",
   "metadata": {},
   "source": [
    "# MaskAggregation"
   ]
  },
  {
   "cell_type": "code",
   "execution_count": 7,
   "id": "3ab3ca9e-737a-441f-ab9e-d4064d41e9c2",
   "metadata": {},
   "outputs": [
    {
     "name": "stderr",
     "output_type": "stream",
     "text": [
      "100%|██████████| 10/10 [00:00<00:00, 678.69it/s]\n"
     ]
    }
   ],
   "source": [
    "aggregator = MaskAggregation()\n",
    "df = pd.read_csv(\"./input_files/masks_data.csv\")\n",
    "data = AnnotationData(markup_type='mask')\n",
    "data.load_markups(df, toloka_masks_to_template)\n",
    "results = aggregator.get_aggregation_results(data, threshold=0.5, confidence=0.6)"
   ]
  },
  {
   "cell_type": "code",
   "execution_count": 8,
   "id": "4759b007-2600-4474-bc33-2b549d6364ed",
   "metadata": {},
   "outputs": [
    {
     "name": "stdout",
     "output_type": "stream",
     "text": [
      "total_markups: 8\n",
      "count_match_markups: 8\n",
      "class_count_match_markups: 8\n",
      "iou_match_percent_markups_0_20: 0\n",
      "iou_match_percent_markups_20_50: 0\n",
      "iou_match_percent_markups_50_80: 0\n",
      "iou_match_percent_markups_80_90: 0\n",
      "iou_match_percent_markups_90_100: 8\n"
     ]
    }
   ],
   "source": [
    "# we can save the results\n",
    "results1 = aggregator.convert_and_save_markups(results, \"masks_results.json\")\n",
    "\n",
    "results2 = aggregator.convert_and_save_markups(results)\n",
    "stat = aggregator.markups_comparison(results1, results2, threshold = 1.0)\n",
    "print_stat(stat)"
   ]
  },
  {
   "cell_type": "code",
   "execution_count": null,
   "id": "bbdf770c-2f43-4366-9e3b-44b7b58bcf8d",
   "metadata": {},
   "outputs": [],
   "source": []
  }
 ],
 "metadata": {
  "kernelspec": {
   "display_name": "Python 3 (ipykernel)",
   "language": "python",
   "name": "python3"
  },
  "language_info": {
   "codemirror_mode": {
    "name": "ipython",
    "version": 3
   },
   "file_extension": ".py",
   "mimetype": "text/x-python",
   "name": "python",
   "nbconvert_exporter": "python",
   "pygments_lexer": "ipython3",
   "version": "3.11.6"
  }
 },
 "nbformat": 4,
 "nbformat_minor": 5
}
